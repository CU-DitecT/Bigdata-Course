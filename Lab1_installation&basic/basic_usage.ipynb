{
 "cells": [
  {
   "cell_type": "code",
   "execution_count": null,
   "id": "6147d6bb",
   "metadata": {},
   "outputs": [],
   "source": [
    "# code mode \n",
    "\n",
    "# \"esc\"  edit mode\n",
    "# 1) add/delte cells\n",
    "#   \"esc\" + a: append a cell above the current cell.\n",
    "#   \"esc\" + b: append a cell below the current cell\n",
    "#   \"esc\" + d: delete a cell\n",
    "\n",
    "# 2) excute some cells\n",
    "# \"ctrl\"+return: excute the current cell\n",
    "# \"shift\"+\"return\": exute the current one and move the the next\n",
    "# \"alt\"+ \"return \"\n",
    "\n",
    "\n",
    "# 3) markdown\n",
    "# \"esc\"+m: convert the current cell from \"code\" to markdown"
   ]
  },
  {
   "cell_type": "code",
   "execution_count": 40,
   "id": "06d88e11",
   "metadata": {},
   "outputs": [],
   "source": [
    "a = 1"
   ]
  },
  {
   "cell_type": "code",
   "execution_count": 41,
   "id": "7f82505b",
   "metadata": {},
   "outputs": [],
   "source": [
    "b = 1"
   ]
  },
  {
   "cell_type": "code",
   "execution_count": 42,
   "id": "2b771409",
   "metadata": {},
   "outputs": [
    {
     "name": "stdout",
     "output_type": "stream",
     "text": [
      "2\n"
     ]
    }
   ],
   "source": [
    "print(a+b)"
   ]
  },
  {
   "cell_type": "code",
   "execution_count": null,
   "id": "74d010e6",
   "metadata": {},
   "outputs": [],
   "source": []
  },
  {
   "cell_type": "markdown",
   "id": "d3973cae",
   "metadata": {},
   "source": [
    "# Python syntax\n",
    "\n",
    "1. Introduce variables\n",
    "2. Function \n",
    "3. Class (next session)"
   ]
  },
  {
   "cell_type": "markdown",
   "id": "29cdc279",
   "metadata": {},
   "source": [
    "## String"
   ]
  },
  {
   "cell_type": "code",
   "execution_count": 53,
   "id": "b022d2ca",
   "metadata": {},
   "outputs": [
    {
     "name": "stdout",
     "output_type": "stream",
     "text": [
      "Molly is a 50 years old Female\n"
     ]
    }
   ],
   "source": [
    "a = \"columbia\"\n",
    "b = 'university'\n",
    "\n",
    "# add one string with another string\n",
    "# print(a+ ' ' +b) # add space\n",
    "# print(a+ '\\n' + b)\n",
    "\n",
    "\n",
    "# string index\n",
    "#print(a[0])  # first element\n",
    "#print(a[-1]) # last element\n",
    "#print(a[-2]) \n",
    "\n",
    "\n",
    "# variable\n",
    "age = \"50\"\n",
    "gender = \"Female\"\n",
    "\n",
    "print(\"Molly is a \"+ age + \" years old \"+ gender)"
   ]
  },
  {
   "cell_type": "code",
   "execution_count": 92,
   "id": "6f4c2cef",
   "metadata": {},
   "outputs": [
    {
     "data": {
      "text/plain": [
       "'FEMALE'"
      ]
     },
     "execution_count": 92,
     "metadata": {},
     "output_type": "execute_result"
    }
   ],
   "source": [
    "gender.upper()"
   ]
  },
  {
   "cell_type": "code",
   "execution_count": 93,
   "id": "db2b56e8",
   "metadata": {},
   "outputs": [
    {
     "data": {
      "text/plain": [
       "'female'"
      ]
     },
     "execution_count": 93,
     "metadata": {},
     "output_type": "execute_result"
    }
   ],
   "source": [
    "gender.lower()"
   ]
  },
  {
   "cell_type": "code",
   "execution_count": 94,
   "id": "e4eb125d",
   "metadata": {},
   "outputs": [
    {
     "data": {
      "text/plain": [
       "['a', 'b', 'c', 'd', 'e']"
      ]
     },
     "execution_count": 94,
     "metadata": {},
     "output_type": "execute_result"
    }
   ],
   "source": [
    "# .csv, comma-seperatedly variable\n",
    "\n",
    "tmp = \"a_b_c_d_e\"\n",
    "tmp.split(\"_\")"
   ]
  },
  {
   "cell_type": "markdown",
   "id": "2b9f16c6",
   "metadata": {},
   "source": [
    "## number"
   ]
  },
  {
   "cell_type": "code",
   "execution_count": 57,
   "id": "1c1cba4c",
   "metadata": {},
   "outputs": [
    {
     "data": {
      "text/plain": [
       "float"
      ]
     },
     "execution_count": 57,
     "metadata": {},
     "output_type": "execute_result"
    }
   ],
   "source": [
    "# int and float\n",
    "a = 5\n",
    "b = 5.\n",
    "type(b)"
   ]
  },
  {
   "cell_type": "code",
   "execution_count": 59,
   "id": "d76fff99",
   "metadata": {},
   "outputs": [],
   "source": [
    "# operation and priority\n",
    "c = a+b\n",
    "#type(c)\n",
    "# a + - / * b\n",
    "tmp = a**4 #\n",
    "tmp = pow(2, 4)\n",
    "\n",
    "\n"
   ]
  },
  {
   "cell_type": "code",
   "execution_count": 62,
   "id": "5a635be0",
   "metadata": {},
   "outputs": [
    {
     "name": "stdout",
     "output_type": "stream",
     "text": [
      "36\n"
     ]
    }
   ],
   "source": [
    "tmp = (2*3)**2  # power > */ > +-\n",
    "print(tmp)"
   ]
  },
  {
   "cell_type": "code",
   "execution_count": 95,
   "id": "c641d0d8",
   "metadata": {},
   "outputs": [],
   "source": [
    "import math\n",
    "\n"
   ]
  },
  {
   "cell_type": "markdown",
   "id": "4346f296",
   "metadata": {},
   "source": [
    "## string-number convert"
   ]
  },
  {
   "cell_type": "code",
   "execution_count": 63,
   "id": "c586fa73",
   "metadata": {},
   "outputs": [
    {
     "data": {
      "text/plain": [
       "str"
      ]
     },
     "execution_count": 63,
     "metadata": {},
     "output_type": "execute_result"
    }
   ],
   "source": [
    "# int to str\n",
    "a = 1\n",
    "str_a = str(a)\n",
    "type(str_a)"
   ]
  },
  {
   "cell_type": "code",
   "execution_count": 64,
   "id": "62f7f400",
   "metadata": {},
   "outputs": [],
   "source": [
    "# str to int"
   ]
  },
  {
   "cell_type": "code",
   "execution_count": 67,
   "id": "0cc45eef",
   "metadata": {},
   "outputs": [
    {
     "name": "stdout",
     "output_type": "stream",
     "text": [
      "1\n",
      "1.0\n"
     ]
    }
   ],
   "source": [
    "int_a = int(str_a)\n",
    "float_a = float(str_a)\n",
    "print(int_a)\n",
    "print(float_a)"
   ]
  },
  {
   "cell_type": "code",
   "execution_count": 71,
   "id": "b1599059",
   "metadata": {},
   "outputs": [
    {
     "name": "stdout",
     "output_type": "stream",
     "text": [
      "1\n",
      "4\n",
      "1\n",
      "2\n"
     ]
    }
   ],
   "source": [
    "# more operation \n",
    "# \n",
    "print(abs(-1))\n",
    "print(max(1,2,3,4))\n",
    "print(min(1,2,3,4))\n",
    "print(round(1.5))\n"
   ]
  },
  {
   "cell_type": "code",
   "execution_count": 96,
   "id": "40d658a5",
   "metadata": {},
   "outputs": [
    {
     "data": {
      "text/plain": [
       "1"
      ]
     },
     "execution_count": 96,
     "metadata": {},
     "output_type": "execute_result"
    }
   ],
   "source": [
    "math.floor(1.5)"
   ]
  },
  {
   "cell_type": "code",
   "execution_count": 72,
   "id": "ab803073",
   "metadata": {},
   "outputs": [
    {
     "name": "stdout",
     "output_type": "stream",
     "text": [
      "2\n"
     ]
    }
   ],
   "source": [
    "print(round(1.5))"
   ]
  },
  {
   "cell_type": "code",
   "execution_count": 73,
   "id": "d1c9eabe",
   "metadata": {},
   "outputs": [
    {
     "data": {
      "text/plain": [
       "True"
      ]
     },
     "execution_count": 73,
     "metadata": {},
     "output_type": "execute_result"
    }
   ],
   "source": [
    "# bool\n",
    "True"
   ]
  },
  {
   "cell_type": "code",
   "execution_count": 74,
   "id": "e813256b",
   "metadata": {},
   "outputs": [
    {
     "data": {
      "text/plain": [
       "False"
      ]
     },
     "execution_count": 74,
     "metadata": {},
     "output_type": "execute_result"
    }
   ],
   "source": [
    "False"
   ]
  },
  {
   "cell_type": "markdown",
   "id": "faec4b8e",
   "metadata": {},
   "source": [
    "# container"
   ]
  },
  {
   "cell_type": "code",
   "execution_count": 79,
   "id": "7b818ca8",
   "metadata": {},
   "outputs": [],
   "source": [
    "# list: []\n",
    "\n",
    "a_list = [1,2, \"string_1\", 'string_2', True, 5.1]\n",
    "a_list[0] = 65"
   ]
  },
  {
   "cell_type": "code",
   "execution_count": 80,
   "id": "cfbb1fe5",
   "metadata": {},
   "outputs": [
    {
     "data": {
      "text/plain": [
       "[65, 2, 'string_1', 'string_2', True, 5.1]"
      ]
     },
     "execution_count": 80,
     "metadata": {},
     "output_type": "execute_result"
    }
   ],
   "source": [
    "a_list"
   ]
  },
  {
   "cell_type": "code",
   "execution_count": 83,
   "id": "ccc276c7",
   "metadata": {},
   "outputs": [
    {
     "ename": "TypeError",
     "evalue": "'tuple' object does not support item assignment",
     "output_type": "error",
     "traceback": [
      "\u001b[0;31m---------------------------------------------------------------------------\u001b[0m",
      "\u001b[0;31mTypeError\u001b[0m                                 Traceback (most recent call last)",
      "Input \u001b[0;32mIn [83]\u001b[0m, in \u001b[0;36m<cell line: 3>\u001b[0;34m()\u001b[0m\n\u001b[1;32m      1\u001b[0m \u001b[38;5;66;03m# tuple: ()\u001b[39;00m\n\u001b[1;32m      2\u001b[0m a_tuple \u001b[38;5;241m=\u001b[39m (\u001b[38;5;241m1\u001b[39m,\u001b[38;5;241m2\u001b[39m,\u001b[38;5;241m5.1\u001b[39m)\n\u001b[0;32m----> 3\u001b[0m a_tuple[\u001b[38;5;241m0\u001b[39m] \u001b[38;5;241m=\u001b[39m \u001b[38;5;241m65\u001b[39m\n",
      "\u001b[0;31mTypeError\u001b[0m: 'tuple' object does not support item assignment"
     ]
    }
   ],
   "source": [
    "# tuple: ()\n",
    "a_tuple = (1,2,5.1)\n",
    "a_tuple[0] = 65"
   ]
  },
  {
   "cell_type": "code",
   "execution_count": 84,
   "id": "75a2b6de",
   "metadata": {},
   "outputs": [],
   "source": [
    "# dictionary: {}\n",
    "#      Key  : Value\n",
    "ages ={\"John\": 50,\n",
    "      \"Alice\": 20,\n",
    "      \"Mike\": 30}\n",
    "\n"
   ]
  },
  {
   "cell_type": "code",
   "execution_count": 85,
   "id": "3a59bca1",
   "metadata": {},
   "outputs": [
    {
     "data": {
      "text/plain": [
       "50"
      ]
     },
     "execution_count": 85,
     "metadata": {},
     "output_type": "execute_result"
    }
   ],
   "source": [
    "ages[\"John\"]"
   ]
  },
  {
   "cell_type": "code",
   "execution_count": 86,
   "id": "e8eda427",
   "metadata": {},
   "outputs": [
    {
     "data": {
      "text/plain": [
       "dict_keys(['John', 'Alice', 'Mike'])"
      ]
     },
     "execution_count": 86,
     "metadata": {},
     "output_type": "execute_result"
    }
   ],
   "source": [
    "ages.keys()"
   ]
  },
  {
   "cell_type": "code",
   "execution_count": 87,
   "id": "abb31926",
   "metadata": {},
   "outputs": [
    {
     "data": {
      "text/plain": [
       "dict_values([50, 20, 30])"
      ]
     },
     "execution_count": 87,
     "metadata": {},
     "output_type": "execute_result"
    }
   ],
   "source": [
    "ages.values()"
   ]
  },
  {
   "cell_type": "code",
   "execution_count": null,
   "id": "dfbcd503",
   "metadata": {},
   "outputs": [],
   "source": []
  },
  {
   "cell_type": "code",
   "execution_count": 102,
   "id": "17391752",
   "metadata": {},
   "outputs": [
    {
     "name": "stdout",
     "output_type": "stream",
     "text": [
      "0\n",
      "3\n",
      "6\n",
      "9\n"
     ]
    }
   ],
   "source": [
    "## for loop and while loop\n",
    "\n",
    "#                st   ed   gap\n",
    "#               /    /    /\n",
    "for i in range(0,  10,   3):\n",
    "    print(i)"
   ]
  },
  {
   "cell_type": "code",
   "execution_count": 99,
   "id": "611bcdc6",
   "metadata": {},
   "outputs": [
    {
     "name": "stdout",
     "output_type": "stream",
     "text": [
      "65\n",
      "2\n",
      "string_1\n",
      "string_2\n",
      "True\n",
      "5.1\n"
     ]
    }
   ],
   "source": [
    "# use container (list)\n",
    "\n",
    "for ele in a_list:\n",
    "    print(ele)"
   ]
  },
  {
   "cell_type": "code",
   "execution_count": 106,
   "id": "382c913c",
   "metadata": {},
   "outputs": [
    {
     "name": "stdout",
     "output_type": "stream",
     "text": [
      "The 1th element is 65\n",
      "The 2th element is 2\n",
      "The 3th element is string_1\n",
      "The 4th element is string_2\n",
      "The 5th element is True\n",
      "The 6th element is 5.1\n"
     ]
    }
   ],
   "source": [
    "# enumerate\n",
    "for idx, ele in enumerate(a_list):\n",
    "    print(\"The \"+ str(idx+1) + \"th element is \" + str(ele))"
   ]
  },
  {
   "cell_type": "code",
   "execution_count": 107,
   "id": "f428e4bb",
   "metadata": {},
   "outputs": [
    {
     "name": "stdout",
     "output_type": "stream",
     "text": [
      "0\n",
      "1\n",
      "2\n",
      "3\n",
      "4\n",
      "5\n",
      "6\n",
      "7\n",
      "8\n",
      "9\n"
     ]
    }
   ],
   "source": [
    "# while \n",
    "i=0\n",
    "while i < 10:\n",
    "    print(i)\n",
    "    i = i + 1"
   ]
  },
  {
   "cell_type": "code",
   "execution_count": 108,
   "id": "b51f8635",
   "metadata": {},
   "outputs": [
    {
     "name": "stdout",
     "output_type": "stream",
     "text": [
      "1\n"
     ]
    }
   ],
   "source": [
    "# if else condition\n",
    "a = 1\n",
    "\n",
    "# \n",
    "if a > 0:\n",
    "    print(a)\n",
    "else:\n",
    "    print(-1*a)"
   ]
  },
  {
   "cell_type": "code",
   "execution_count": 111,
   "id": "4a1059e1",
   "metadata": {},
   "outputs": [
    {
     "name": "stdout",
     "output_type": "stream",
     "text": [
      "It is negative\n"
     ]
    }
   ],
   "source": [
    "a = -1\n",
    "\n",
    "if a > 0:\n",
    "    print(\"It is positive\")\n",
    "elif a == 0:\n",
    "    print(\"It is zero\")\n",
    "else:\n",
    "    print(\"It is negative\")"
   ]
  },
  {
   "cell_type": "code",
   "execution_count": 113,
   "id": "c457030e",
   "metadata": {},
   "outputs": [],
   "source": [
    "# print \"a=2\" \"a=4\" ,...., \"a=100\"\n",
    "for i in range(2, 101, 2):\n",
    "    print(\"a=\"+str(i))"
   ]
  },
  {
   "cell_type": "code",
   "execution_count": null,
   "id": "173d029b",
   "metadata": {},
   "outputs": [],
   "source": []
  },
  {
   "cell_type": "code",
   "execution_count": 121,
   "id": "c7569ecb",
   "metadata": {},
   "outputs": [
    {
     "name": "stdout",
     "output_type": "stream",
     "text": [
      "a=0\n",
      "a=2\n",
      "a=4\n",
      "a=6\n",
      "a=8\n",
      "a=10\n",
      "a=12\n",
      "a=14\n",
      "a=16\n",
      "a=18\n",
      "a=20\n",
      "a=22\n",
      "a=24\n",
      "a=26\n",
      "a=28\n",
      "a=30\n",
      "a=32\n",
      "a=34\n",
      "a=36\n",
      "a=38\n",
      "a=40\n",
      "a=42\n",
      "a=44\n",
      "a=46\n",
      "a=48\n"
     ]
    }
   ],
   "source": [
    "# print \"a=2\" \"a=4\" ,...., \"a=100\" but, exclude 50\n",
    "\n",
    "# pass, continue, break\n",
    "for i in range(101):\n",
    "    if i == 50:\n",
    "        break\n",
    "    if i%2 == 0: # i is even\n",
    "        print(\"a=\"+str(i))\n",
    "    else:\n",
    "        pass"
   ]
  },
  {
   "cell_type": "code",
   "execution_count": 123,
   "id": "a2b28a12",
   "metadata": {},
   "outputs": [
    {
     "name": "stdout",
     "output_type": "stream",
     "text": [
      "a=1 b=100\n",
      "a=2 b=99\n",
      "a=3 b=98\n",
      "a=4 b=97\n",
      "a=5 b=96\n",
      "a=6 b=95\n",
      "a=7 b=94\n",
      "a=8 b=93\n",
      "a=9 b=92\n",
      "a=10 b=91\n",
      "a=11 b=90\n",
      "a=12 b=89\n",
      "a=13 b=88\n",
      "a=14 b=87\n",
      "a=15 b=86\n",
      "a=16 b=85\n",
      "a=17 b=84\n",
      "a=18 b=83\n",
      "a=19 b=82\n",
      "a=20 b=81\n",
      "a=21 b=80\n",
      "a=22 b=79\n",
      "a=23 b=78\n",
      "a=24 b=77\n",
      "a=25 b=76\n",
      "a=26 b=75\n",
      "a=27 b=74\n",
      "a=28 b=73\n",
      "a=29 b=72\n",
      "a=30 b=71\n",
      "a=31 b=70\n",
      "a=32 b=69\n",
      "a=33 b=68\n",
      "a=34 b=67\n",
      "a=35 b=66\n",
      "a=36 b=65\n",
      "a=37 b=64\n",
      "a=38 b=63\n",
      "a=39 b=62\n",
      "a=40 b=61\n",
      "a=41 b=60\n",
      "a=42 b=59\n",
      "a=43 b=58\n",
      "a=44 b=57\n",
      "a=45 b=56\n",
      "a=46 b=55\n",
      "a=47 b=54\n",
      "a=48 b=53\n",
      "a=49 b=52\n",
      "a=50 b=51\n",
      "a=51 b=50\n",
      "a=52 b=49\n",
      "a=53 b=48\n",
      "a=54 b=47\n",
      "a=55 b=46\n",
      "a=56 b=45\n",
      "a=57 b=44\n",
      "a=58 b=43\n",
      "a=59 b=42\n",
      "a=60 b=41\n",
      "a=61 b=40\n",
      "a=62 b=39\n",
      "a=63 b=38\n",
      "a=64 b=37\n",
      "a=65 b=36\n",
      "a=66 b=35\n",
      "a=67 b=34\n",
      "a=68 b=33\n",
      "a=69 b=32\n",
      "a=70 b=31\n",
      "a=71 b=30\n",
      "a=72 b=29\n",
      "a=73 b=28\n",
      "a=74 b=27\n",
      "a=75 b=26\n",
      "a=76 b=25\n",
      "a=77 b=24\n",
      "a=78 b=23\n",
      "a=79 b=22\n",
      "a=80 b=21\n",
      "a=81 b=20\n",
      "a=82 b=19\n",
      "a=83 b=18\n",
      "a=84 b=17\n",
      "a=85 b=16\n",
      "a=86 b=15\n",
      "a=87 b=14\n",
      "a=88 b=13\n",
      "a=89 b=12\n",
      "a=90 b=11\n",
      "a=91 b=10\n",
      "a=92 b=9\n",
      "a=93 b=8\n",
      "a=94 b=7\n",
      "a=95 b=6\n",
      "a=96 b=5\n",
      "a=97 b=4\n",
      "a=98 b=3\n",
      "a=99 b=2\n",
      "a=100 b=1\n"
     ]
    }
   ],
   "source": [
    "# print \"a=1,b=100\" \"a=2,b=99\" ... \"a=100,b=1\"\n",
    "for i in range(1, 101):\n",
    "    a = i\n",
    "    b = 101-i\n",
    "    print(\"a=\"+str(a)+\" b=\"+str(b))"
   ]
  },
  {
   "cell_type": "code",
   "execution_count": null,
   "id": "e59181bd",
   "metadata": {},
   "outputs": [],
   "source": [
    "# function\n",
    "\n",
    "a = -1\n",
    "\n",
    "# detect the sign\n",
    "if a > 0:\n",
    "    print(\"It is positive\")\n",
    "elif a == 0:\n",
    "    print(\"It is zero\")\n",
    "else:\n",
    "    print(\"It is negative\")"
   ]
  },
  {
   "cell_type": "code",
   "execution_count": 125,
   "id": "d4bc2d67",
   "metadata": {},
   "outputs": [],
   "source": [
    "def dtc_sign(incoming_number):\n",
    "    if incoming_number > 0:\n",
    "        print(\"It is positive\")\n",
    "    elif incoming_number == 0:\n",
    "        print(\"It is zero\")\n",
    "    else:\n",
    "        print(\"It is negative\")"
   ]
  },
  {
   "cell_type": "code",
   "execution_count": 128,
   "id": "e8f252cb",
   "metadata": {},
   "outputs": [
    {
     "name": "stdout",
     "output_type": "stream",
     "text": [
      "It is zero\n"
     ]
    }
   ],
   "source": [
    "a = 0\n",
    "dtc_sign(a)"
   ]
  },
  {
   "cell_type": "code",
   "execution_count": 129,
   "id": "8799aafb",
   "metadata": {},
   "outputs": [],
   "source": [
    "# another example\n",
    "\n",
    "# the absolute value\n",
    "\n",
    "a = 1\n",
    "\n",
    "if a > 0:\n",
    "    output = a\n",
    "else:\n",
    "    output = -1 * a"
   ]
  },
  {
   "cell_type": "code",
   "execution_count": 1,
   "id": "9d702c47",
   "metadata": {},
   "outputs": [],
   "source": [
    "def abs_value(x):\n",
    "    if x > 0:\n",
    "        output = x\n",
    "    else:\n",
    "        output = -1 * x   \n",
    "    return x"
   ]
  },
  {
   "cell_type": "code",
   "execution_count": 5,
   "id": "ad979ed3",
   "metadata": {},
   "outputs": [],
   "source": [
    "global tmp\n",
    "def abs_value_2(x):\n",
    "    global tmp\n",
    "    tmp = x\n",
    "    if x > 0:\n",
    "        return x\n",
    "    else:\n",
    "        return -1*x"
   ]
  },
  {
   "cell_type": "code",
   "execution_count": 6,
   "id": "7b6b1e11",
   "metadata": {},
   "outputs": [
    {
     "data": {
      "text/plain": [
       "5"
      ]
     },
     "execution_count": 6,
     "metadata": {},
     "output_type": "execute_result"
    }
   ],
   "source": [
    "# how to debug the function\n",
    "\n",
    "# define a global variable\n",
    "\n",
    "abs_value_2(5)"
   ]
  },
  {
   "cell_type": "code",
   "execution_count": 7,
   "id": "82ea1cb2",
   "metadata": {},
   "outputs": [
    {
     "data": {
      "text/plain": [
       "5"
      ]
     },
     "execution_count": 7,
     "metadata": {},
     "output_type": "execute_result"
    }
   ],
   "source": [
    "# path of data\n",
    "# parameter\n",
    "\n",
    "global PATH = \"desktop/xxxx\""
   ]
  },
  {
   "cell_type": "code",
   "execution_count": 8,
   "id": "dcea01be",
   "metadata": {},
   "outputs": [],
   "source": [
    "# debug a function\n",
    "# use the print function\n",
    "def abs_value_2(x):\n",
    "    print(x)\n",
    "    tmp = x\n",
    "    if x > 0:\n",
    "        return x\n",
    "    else:\n",
    "        return -1*x"
   ]
  },
  {
   "cell_type": "code",
   "execution_count": 9,
   "id": "4bb9b7aa",
   "metadata": {},
   "outputs": [
    {
     "name": "stdout",
     "output_type": "stream",
     "text": [
      "-1\n"
     ]
    },
    {
     "data": {
      "text/plain": [
       "1"
      ]
     },
     "execution_count": 9,
     "metadata": {},
     "output_type": "execute_result"
    }
   ],
   "source": [
    "abs_value_2(-1)"
   ]
  },
  {
   "cell_type": "code",
   "execution_count": 26,
   "id": "8d1b4d5b",
   "metadata": {},
   "outputs": [],
   "source": [
    "# Class: variable+function\n",
    "\n",
    "# function: variables + rules\n",
    "\n",
    "# task: a string version of math operation\n",
    "\n",
    "def str_add(str_1, str_2):\n",
    "    int_1 = int(str_1)\n",
    "    int_2 = int(str_2)\n",
    "    return str(int_1+int_2)\n",
    "\n",
    "def str_minus(str_1, str_2):\n",
    "    int_1 = int(str_1)\n",
    "    int_2 = int(str_2)\n",
    "    return str(int_1 - int_2)\n",
    "\n",
    "def str_mul(str_1, str_2):\n",
    "    int_1 = int(str_1)\n",
    "    int_2 = int(str_2)\n",
    "    return str(int_1*int_2)\n",
    "\n",
    "def str_div(str_1, str_2):\n",
    "    int_1 = int(str_1)\n",
    "    int_2 = int(str_2)\n",
    "    \n",
    "    if int_2 != 0:\n",
    "        return str( int_1 / int_2 )\n",
    "    else:\n",
    "        return \"inf\""
   ]
  },
  {
   "cell_type": "code",
   "execution_count": 37,
   "id": "9ed8ae41",
   "metadata": {},
   "outputs": [],
   "source": [
    "def add_fun(x,y):\n",
    "    return x+y\n",
    "\n",
    "def mul_fun(x,y):\n",
    "    return x*y"
   ]
  },
  {
   "cell_type": "code",
   "execution_count": 40,
   "id": "1fe3ac39",
   "metadata": {},
   "outputs": [],
   "source": [
    "def add_1and2_and_then_mul3(x, y, z):\n",
    "    return mul_fun(add_fun(x,y), z)"
   ]
  },
  {
   "cell_type": "code",
   "execution_count": 41,
   "id": "44299b54",
   "metadata": {},
   "outputs": [
    {
     "data": {
      "text/plain": [
       "16"
      ]
     },
     "execution_count": 41,
     "metadata": {},
     "output_type": "execute_result"
    }
   ],
   "source": [
    "add_1and2_and_then_mul3(1,3, 4)"
   ]
  },
  {
   "cell_type": "code",
   "execution_count": 46,
   "id": "3ef4cfaa",
   "metadata": {},
   "outputs": [],
   "source": [
    "def return_add_minus(x,y):\n",
    "    return (10,5,6,7)"
   ]
  },
  {
   "cell_type": "code",
   "execution_count": 47,
   "id": "41556fc0",
   "metadata": {},
   "outputs": [],
   "source": [
    "tuple_result = return_add_minus(10,5)"
   ]
  },
  {
   "cell_type": "code",
   "execution_count": 48,
   "id": "c1670323",
   "metadata": {},
   "outputs": [
    {
     "data": {
      "text/plain": [
       "(10, 5, 6, 7)"
      ]
     },
     "execution_count": 48,
     "metadata": {},
     "output_type": "execute_result"
    }
   ],
   "source": [
    "tuple_result"
   ]
  },
  {
   "cell_type": "code",
   "execution_count": 49,
   "id": "af93e550",
   "metadata": {},
   "outputs": [],
   "source": [
    "a, b, c, d = tuple_result"
   ]
  },
  {
   "cell_type": "code",
   "execution_count": 50,
   "id": "b6e8395b",
   "metadata": {},
   "outputs": [
    {
     "data": {
      "text/plain": [
       "10"
      ]
     },
     "execution_count": 50,
     "metadata": {},
     "output_type": "execute_result"
    }
   ],
   "source": [
    "a"
   ]
  },
  {
   "cell_type": "code",
   "execution_count": 34,
   "id": "a53e44de",
   "metadata": {},
   "outputs": [],
   "source": [
    "result = str_add(\"8\", \"5\")"
   ]
  },
  {
   "cell_type": "code",
   "execution_count": 33,
   "id": "d193406d",
   "metadata": {},
   "outputs": [
    {
     "name": "stdout",
     "output_type": "stream",
     "text": [
      "13\n"
     ]
    }
   ],
   "source": [
    "result = print(str_add(\"8\", \"5\"))"
   ]
  },
  {
   "cell_type": "code",
   "execution_count": 28,
   "id": "3ecd8905",
   "metadata": {},
   "outputs": [
    {
     "name": "stdout",
     "output_type": "stream",
     "text": [
      "13\n",
      "3\n",
      "inf\n"
     ]
    }
   ],
   "source": [
    "print(str_add(\"8\", \"5\"))\n",
    "print(str_minus(\"8\", \"5\"))\n",
    "print(str_div(\"8\", \"0\"))"
   ]
  },
  {
   "cell_type": "code",
   "execution_count": null,
   "id": "4fd48aba",
   "metadata": {},
   "outputs": [],
   "source": [
    "# Class: function of function\n",
    "#        function + numbers\n",
    "\n",
    "Class StrOperator"
   ]
  }
 ],
 "metadata": {
  "kernelspec": {
   "display_name": "Python 3 (ipykernel)",
   "language": "python",
   "name": "python3"
  },
  "language_info": {
   "codemirror_mode": {
    "name": "ipython",
    "version": 3
   },
   "file_extension": ".py",
   "mimetype": "text/x-python",
   "name": "python",
   "nbconvert_exporter": "python",
   "pygments_lexer": "ipython3",
   "version": "3.9.12"
  }
 },
 "nbformat": 4,
 "nbformat_minor": 5
}
