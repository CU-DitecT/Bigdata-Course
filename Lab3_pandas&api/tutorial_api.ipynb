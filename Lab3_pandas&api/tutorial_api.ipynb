{
 "cells": [
  {
   "cell_type": "markdown",
   "metadata": {
    "slideshow": {
     "slide_type": "slide"
    }
   },
   "source": [
    "# Topics\n",
    "- API\n",
    "    - **Google API**\n",
    "      - Maps Static API\n",
    "      - Street View API\n",
    "      - Distance Matrix API\n",
    "      - Direction API\n",
    "- Heatmap\n",
    "- Statistics tool"
   ]
  },
  {
   "cell_type": "markdown",
   "metadata": {
    "slideshow": {
     "slide_type": "slide"
    }
   },
   "source": [
    "- **Google API**\n",
    "    - **apply for a api key**"
   ]
  },
  {
   "cell_type": "markdown",
   "metadata": {
    "slideshow": {
     "slide_type": "slide"
    }
   },
   "source": [
    "- **Google API**\n",
    "    - apply for a api key\n",
    "    - **format of request**\n",
    "        - https:// maps.googleapis.com/ maps/ api/ distancematrix/ **outputFormat**?**parameters(request here)**"
   ]
  },
  {
   "cell_type": "code",
   "execution_count": 30,
   "metadata": {
    "slideshow": {
     "slide_type": "slide"
    }
   },
   "outputs": [],
   "source": [
    "import requests\n",
    "# test the origin\n",
    "origins = \"40.734961,-74.059503\"\n",
    "destinations = \"40.737604 -74.052478\"\n",
    "api_key = \"\" # --info, --billing account\n",
    "#api_key = \"639\"\n",
    "# url variable\n",
    "url = 'https://maps.googleapis.com/maps/api/directions/json?'\n",
    "url = url + 'origin=' + origins \n",
    "url = url + '&destination=' + destinations\n",
    "url = url + '&key=' + api_key \n",
    "\n"
   ]
  },
  {
   "cell_type": "code",
   "execution_count": 22,
   "metadata": {},
   "outputs": [],
   "source": [
    "# get the result\n",
    "r = requests.get( url)\n",
    "\n",
    "# return the json format result  # json: dictionary\n",
    "x = r.json() \n",
    "\n",
    "# print the value of x\n",
    "st_location = x['routes'][0]['legs'][0]['start_location']\n"
   ]
  },
  {
   "cell_type": "markdown",
   "metadata": {
    "slideshow": {
     "slide_type": "slide"
    }
   },
   "source": [
    "- **Google API**\n",
    "    - apply for a api key\n",
    "    - format of request\n",
    "    - **format of response**"
   ]
  },
  {
   "cell_type": "code",
   "execution_count": 23,
   "metadata": {
    "slideshow": {
     "slide_type": "-"
    }
   },
   "outputs": [
    {
     "data": {
      "text/plain": [
       "{'lat': 40.7349225, 'lng': -74.05951309999999}"
      ]
     },
     "execution_count": 23,
     "metadata": {},
     "output_type": "execute_result"
    }
   ],
   "source": [
    "st_location"
   ]
  },
  {
   "cell_type": "code",
   "execution_count": null,
   "metadata": {},
   "outputs": [],
   "source": []
  },
  {
   "cell_type": "markdown",
   "metadata": {
    "slideshow": {
     "slide_type": "slide"
    }
   },
   "source": [
    "# Topics\n",
    "- API\n",
    "    - **Google API**\n",
    "      - Maps Static API\n",
    "      - Street View API\n",
    "      - **Distance Matrix API**\n",
    "      - Direction API\n",
    "- Heatmap\n",
    "- Statistics tool"
   ]
  },
  {
   "cell_type": "code",
   "execution_count": 24,
   "metadata": {
    "slideshow": {
     "slide_type": "slide"
    }
   },
   "outputs": [
    {
     "data": {
      "text/plain": [
       "{'destination_addresses': ['146 Oakland Ave, Jersey City, NJ 07306, USA'],\n",
       " 'origin_addresses': ['673 Newark Ave, Jersey City, NJ 07306, USA'],\n",
       " 'rows': [{'elements': [{'distance': {'text': '1.2 km', 'value': 1152},\n",
       "     'duration': {'text': '5 mins', 'value': 281},\n",
       "     'status': 'OK'}]}],\n",
       " 'status': 'OK'}"
      ]
     },
     "execution_count": 24,
     "metadata": {},
     "output_type": "execute_result"
    }
   ],
   "source": [
    "import requests\n",
    "# test the origin\n",
    "origins = \"40.734961,-74.059503\"\n",
    "destinations = \"40.737604 -74.052478\"\n",
    "\n",
    "# url variable\n",
    "api_key = \"\"\n",
    "url = 'https://maps.googleapis.com/maps/api/distancematrix/json?'\n",
    "url = url + 'origins=' + origins \n",
    "url = url + '&destinations=' + destinations\n",
    "url = url + '&key=' + api_key\n",
    "url = url + '&mode=' + 'driving'\n",
    "\n",
    "# get the result\n",
    "r = requests.get( url)\n",
    "\n",
    "# return the json format result\n",
    "x = r.json() \n",
    "\n",
    "# print the value of x\n",
    "x"
   ]
  },
  {
   "cell_type": "code",
   "execution_count": 25,
   "metadata": {},
   "outputs": [],
   "source": [
    "def get_the_distance_from_responce(response):\n",
    "    return response['rows'][0]['elements'][0]['distance']['text']\n"
   ]
  },
  {
   "cell_type": "code",
   "execution_count": 26,
   "metadata": {},
   "outputs": [
    {
     "data": {
      "text/plain": [
       "{'text': '1.2 km', 'value': 1152}"
      ]
     },
     "execution_count": 26,
     "metadata": {},
     "output_type": "execute_result"
    }
   ],
   "source": [
    "x['rows'][0]['elements'][0]['distance']"
   ]
  },
  {
   "cell_type": "code",
   "execution_count": null,
   "metadata": {},
   "outputs": [],
   "source": []
  },
  {
   "cell_type": "code",
   "execution_count": null,
   "metadata": {},
   "outputs": [],
   "source": []
  },
  {
   "cell_type": "markdown",
   "metadata": {
    "slideshow": {
     "slide_type": "slide"
    }
   },
   "source": [
    "# Topics\n",
    "- API\n",
    "    - Google API\n",
    "- **Heatmap**\n",
    "- Statistics tool"
   ]
  },
  {
   "cell_type": "code",
   "execution_count": 27,
   "metadata": {},
   "outputs": [
    {
     "name": "stdout",
     "output_type": "stream",
     "text": [
      "Requirement already satisfied: gmplot in /Users/zhaobinmo/opt/anaconda3/lib/python3.9/site-packages (1.4.1)\r\n",
      "Requirement already satisfied: requests in /Users/zhaobinmo/opt/anaconda3/lib/python3.9/site-packages (from gmplot) (2.27.1)\r\n",
      "Requirement already satisfied: charset-normalizer~=2.0.0 in /Users/zhaobinmo/opt/anaconda3/lib/python3.9/site-packages (from requests->gmplot) (2.0.4)\r\n",
      "Requirement already satisfied: certifi>=2017.4.17 in /Users/zhaobinmo/opt/anaconda3/lib/python3.9/site-packages (from requests->gmplot) (2021.10.8)\r\n",
      "Requirement already satisfied: urllib3<1.27,>=1.21.1 in /Users/zhaobinmo/opt/anaconda3/lib/python3.9/site-packages (from requests->gmplot) (1.26.9)\r\n",
      "Requirement already satisfied: idna<4,>=2.5 in /Users/zhaobinmo/opt/anaconda3/lib/python3.9/site-packages (from requests->gmplot) (3.3)\r\n"
     ]
    }
   ],
   "source": [
    "!pip install gmplot"
   ]
  },
  {
   "cell_type": "code",
   "execution_count": 14,
   "metadata": {
    "slideshow": {
     "slide_type": "slide"
    }
   },
   "outputs": [],
   "source": [
    "import pandas as pd\n",
    "#df = pd.read_csv('2018_11.csv')\n"
   ]
  },
  {
   "cell_type": "code",
   "execution_count": 15,
   "metadata": {},
   "outputs": [],
   "source": [
    "#gmap = gmplot.GoogleMapPlotter(lats[0], lons[0], 13)\n",
    "#gmap.heatmap(lats, lons)\n",
    "#gmap.draw(\"heat_map.html\")"
   ]
  },
  {
   "cell_type": "code",
   "execution_count": 16,
   "metadata": {},
   "outputs": [],
   "source": [
    "attractions_lats, attractions_lngs = zip(*[\n",
    "    (37.769901, -122.498331),\n",
    "    (37.768645, -122.475328),\n",
    "    (37.771478, -122.468677),\n",
    "    (37.769867, -122.466102),\n",
    "    (37.767187, -122.467496),\n",
    "    (37.770104, -122.470436)\n",
    "])"
   ]
  },
  {
   "cell_type": "code",
   "execution_count": 28,
   "metadata": {
    "slideshow": {
     "slide_type": "slide"
    }
   },
   "outputs": [],
   "source": [
    "from gmplot import gmplot\n",
    "attractions_lats, attractions_lngs = zip(*[\n",
    "    (40.734961,-74.059503),\n",
    "    (40.737604, -74.052478)\n",
    "])\n",
    "\n",
    "\n",
    "\n",
    "\n",
    "gmap = gmplot.GoogleMapPlotter(40.734961,-74.059503, 13)\n",
    "\n",
    "gmap.scatter(attractions_lats, attractions_lngs,color='#3B0B39', size=40, marker=False)\n",
    "\n",
    "gmap.draw(\"scatter_map.html\")"
   ]
  },
  {
   "cell_type": "code",
   "execution_count": 29,
   "metadata": {},
   "outputs": [],
   "source": [
    "\n",
    "gmap = gmplot.GoogleMapPlotter(37.769901, -122.498331, 13)\n",
    "\n",
    "attractions_lats, attractions_lngs = zip(*[\n",
    "    (37.769901, -122.498331),\n",
    "    (37.768645, -122.475328),\n",
    "    (37.771478, -122.468677),\n",
    "    (37.769867, -122.466102),\n",
    "    (37.767187, -122.467496),\n",
    "    (37.770104, -122.470436)\n",
    "])\n",
    "\n",
    "gmap.heatmap(attractions_lats, attractions_lngs)\n",
    "\n",
    "\n",
    "gmap.draw(\"heat_map.html\")"
   ]
  },
  {
   "cell_type": "code",
   "execution_count": null,
   "metadata": {},
   "outputs": [],
   "source": []
  }
 ],
 "metadata": {
  "celltoolbar": "Slideshow",
  "kernelspec": {
   "display_name": "Python 3 (ipykernel)",
   "language": "python",
   "name": "python3"
  },
  "language_info": {
   "codemirror_mode": {
    "name": "ipython",
    "version": 3
   },
   "file_extension": ".py",
   "mimetype": "text/x-python",
   "name": "python",
   "nbconvert_exporter": "python",
   "pygments_lexer": "ipython3",
   "version": "3.9.12"
  },
  "livereveal": {
   "scroll": true,
   "transition": "none"
  }
 },
 "nbformat": 4,
 "nbformat_minor": 2
}
